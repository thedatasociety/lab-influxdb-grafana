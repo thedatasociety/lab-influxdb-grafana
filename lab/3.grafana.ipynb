{
 "cells": [
  {
   "cell_type": "code",
   "execution_count": null,
   "metadata": {},
   "outputs": [],
   "source": [
    "from IPython.core.display import HTML \n",
    "import os"
   ]
  },
  {
   "cell_type": "markdown",
   "metadata": {},
   "source": [
    "## Defining InfluxDB version and local path"
   ]
  },
  {
   "cell_type": "code",
   "execution_count": null,
   "metadata": {},
   "outputs": [],
   "source": [
    "%env GRAFANA_VERSION         6.2.5\n",
    "%env GRAFANA_PATH    grafana-6.2.5"
   ]
  },
  {
   "cell_type": "markdown",
   "metadata": {},
   "source": [
    "## Downloading and extracting Grafana"
   ]
  },
  {
   "cell_type": "code",
   "execution_count": null,
   "metadata": {},
   "outputs": [],
   "source": [
    "!wget https://dl.grafana.com/oss/release/grafana-${GRAFANA_VERSION}.linux-amd64.tar.gz -q --show-progress\n",
    "!tar -zxvf grafana-${GRAFANA_VERSION}.linux-amd64.tar.gz >> /dev/null\n",
    "!rm        grafana-${GRAFANA_VERSION}.linux-amd64.tar.gz"
   ]
  },
  {
   "cell_type": "markdown",
   "metadata": {},
   "source": [
    "## Preparing environment for running Grafana on a BinderHub instance\n",
    "\n",
    "\n",
    "<b> <font color=\"red\">Please, set the envvar below accordingly. For instance: </font></b>\n",
    " \n",
    " \n",
    " \n",
    "![](../resources/images/binderhub-main-url.png)"
   ]
  },
  {
   "cell_type": "code",
   "execution_count": null,
   "metadata": {},
   "outputs": [],
   "source": [
    "%env SERVER_URL   hub.gke.mybinder.org\n",
    "%env PROXY_SUBURL proxy/3000"
   ]
  },
  {
   "cell_type": "markdown",
   "metadata": {},
   "source": [
    "Next cell:\n",
    "\n",
    "* Sets Grafana root URL using envvars;\n",
    "* Sets default password for user `admin` (datasociety)\n",
    "* Starts the Grafana server."
   ]
  },
  {
   "cell_type": "code",
   "execution_count": null,
   "metadata": {},
   "outputs": [],
   "source": [
    "url_message='<b>Grafana interface is available at:</b> <a href=\"http://{0}{1}{2}\" target=\"_blank\"> http://{0}{1}{2}</a>'\n",
    "display(HTML(url_message.format(os.environ['SERVER_URL'],os.environ['JUPYTERHUB_SERVICE_PREFIX'],os.environ['PROXY_SUBURL'])))\n",
    "display(HTML('<b>User</b>: admin <br/><b>Password:</b> datasociety'))\n",
    "display(HTML('<b><font color=\"red\">This cell will keep the Grafana server running. Please do not stop it unless you need to.</font></b>'))\n",
    "\n",
    "!export GF_SERVER_ROOT_URL=\"${JUPYTERHUB_SERVICE_PREFIX}${PROXY_SUBURL}\" && \\\n",
    " export GF_SECURITY_ADMIN_PASSWORD=datasociety && \\\n",
    " cd ${GRAFANA_PATH} && \\\n",
    " ./bin/grafana-server -convey-silent >> /dev/null"
   ]
  },
  {
   "cell_type": "markdown",
   "metadata": {},
   "source": [
    "## Adding a data source\n",
    "\n",
    "Go to the setting menu (left cog on the vertical bar) and click to add a data source.\n",
    "\n",
    "![](../resources/images/screenshot-grafana0.png)\n",
    "\n",
    "Select InfluxDB and then set the following parameters:\n",
    "\n",
    "\n",
    "- Name: influxdb\n",
    "- Type: influxdb\n",
    "- URL: http://localhost:8086/\n",
    "- Database: telegraf\n",
    "- User: telegraf\n",
    "- Password: 'telegraf'\n",
    "\n",
    "Then click `save & test`.\n",
    "\n",
    "![](../resources/images/screenshot-grafana1.png)"
   ]
  },
  {
   "cell_type": "markdown",
   "metadata": {},
   "source": [
    "## Do your own or import a dashboard\n",
    "\n",
    "Grafana provides the repository for grafana plugins and dashboards.\n",
    "\n",
    "- [Grafana Plugins](https://grafana.com/plugins)\n",
    "- [Grafana Dashboards](https://grafana.com/dashboards)\n",
    "\n",
    "\n",
    "For instance, go to [https://grafana.com/dashboards/5955](https://grafana.com/dashboards/5955) and click the 'Copy the ID to Clipboard' button.\n",
    "\n",
    "Click on the `+` option on the left bar and select `import`. Paste the ID, select the Data Source and you will be done!"
   ]
  },
  {
   "cell_type": "markdown",
   "metadata": {},
   "source": [
    "![](../resources/images/screenshot-grafana2.png)\n",
    "![](../resources/images/screenshot-grafana3.png)"
   ]
  },
  {
   "cell_type": "code",
   "execution_count": null,
   "metadata": {},
   "outputs": [],
   "source": []
  }
 ],
 "metadata": {
  "kernelspec": {
   "display_name": "Python 3",
   "language": "python",
   "name": "python3"
  },
  "language_info": {
   "codemirror_mode": {
    "name": "ipython",
    "version": 3
   },
   "file_extension": ".py",
   "mimetype": "text/x-python",
   "name": "python",
   "nbconvert_exporter": "python",
   "pygments_lexer": "ipython3",
   "version": "3.7.3"
  }
 },
 "nbformat": 4,
 "nbformat_minor": 2
}
