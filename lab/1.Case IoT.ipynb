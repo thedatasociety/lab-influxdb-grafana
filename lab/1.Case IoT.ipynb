{
 "cells": [
  {
   "cell_type": "code",
   "execution_count": null,
   "metadata": {},
   "outputs": [],
   "source": [
    "from resources.iot.device import IoT_mqtt_publisher, IoT_sensor\n",
    "from resources.iot.device import IoT_sensor_consumer\n",
    "from IPython.core.display import display\n",
    "import ipywidgets as widgets\n",
    "from resources.iot.device import IoT_mqtt_publisher, IoT_sensor\n",
    "from IPython.core.display import HTML \n",
    "import os\n",
    "import resources.thedatasociety as thedatasociety"
   ]
  },
  {
   "cell_type": "markdown",
   "metadata": {},
   "source": [
    "# Componente para simulação de um sensor\n",
    "\n",
    "<!--\n",
    "```bash\n",
    "IoT_sensor(<name/id>, <grandeza física >, <unidade de medida>, <menor valor>, <maior valor possível>, <intervalo entre leituras (segundos)>)\n",
    "```\n",
    "\n",
    "Exemplo de sensor de pressão:\n",
    "\n",
    "```python\n",
    "sensor_pressao = IoT_sensor(\"32\", \"pressao\", \"bar\", 20, 35, 5)\n",
    "\n",
    "```\n",
    "-->\n",
    "\n",
    "Componentes `IoT_sensor` podem se conectar a componentes do tipo `IoT_mqtt_publisher` para publicar, em um tópico, mensagens referentes às leituras feitas pelo sensor. Por exemplo, o sensor do exemplo acima produziu a seguinte mensagem no tópico `sensor/32/pressao`:\n",
    "\n",
    "```python\n",
    " {\n",
    " \t\"source\": \"sensor\",\n",
    " \t\"name\": \"32\",\n",
    " \t\"type\": \"mode-r2d2\",\n",
    " \t\"body\": {\n",
    " \t\t\"timestamp\": \"2019-08-17 17:02:15\",\n",
    " \t\t\"dimension\": \"pressao\",\n",
    " \t\t\"value\": 25.533895448246717,\n",
    " \t\t\"unity\": \"bar\"\n",
    " \t}\n",
    " }\n",
    "```\n",
    "\n",
    "Simuladores podem publicar mensagens aleatórias de tempos em tempos.\n"
   ]
  },
  {
   "cell_type": "markdown",
   "metadata": {},
   "source": [
    "# Instanciando Simuladores de Sensores"
   ]
  },
  {
   "cell_type": "code",
   "execution_count": null,
   "metadata": {},
   "outputs": [],
   "source": [
    "sensor_1 = IoT_sensor(name=\"1\", dimension=\"Temperatura\",     unity=\"°C\",  min_value=25, max_value=35,   pooling_interval=2)\n",
    "sensor_2 = IoT_sensor(name=\"2\", dimension=\"Umidade\",         unity=\"%\",   min_value=40, max_value=65,   pooling_interval=3)\n",
    "sensor_3 = IoT_sensor(name=\"3\", dimension=\"BateriaRestante\", unity=\"%\",   min_value=5,  max_value=100,  pooling_interval=4)\n",
    "sensor_4 = IoT_sensor(name=\"4\", dimension=\"SinalWifi\",       unity=\"dBm\", min_value=-30, max_value=-90, pooling_interval=2)"
   ]
  },
  {
   "cell_type": "markdown",
   "metadata": {},
   "source": [
    "# Instanciando Componente de Publicação de Mensagens no MQTT"
   ]
  },
  {
   "cell_type": "code",
   "execution_count": null,
   "metadata": {},
   "outputs": [],
   "source": [
    "publisher = IoT_mqtt_publisher(\"localhost\", 1883)"
   ]
  },
  {
   "cell_type": "markdown",
   "metadata": {},
   "source": [
    "### Conectando os Componentes "
   ]
  },
  {
   "cell_type": "code",
   "execution_count": null,
   "metadata": {},
   "outputs": [],
   "source": [
    "sensor_1.connect(publisher)\n",
    "sensor_2.connect(publisher)\n",
    "sensor_3.connect(publisher)\n",
    "sensor_4.connect(publisher)"
   ]
  },
  {
   "cell_type": "markdown",
   "metadata": {},
   "source": [
    "# Escutando o barramento\n",
    "\n",
    "Abra um terminal e digite:\n",
    "\n",
    "```bash\n",
    "\n",
    "mosquitto_sub -t \"sensor/#\" -v\n",
    "\n",
    "```"
   ]
  },
  {
   "cell_type": "markdown",
   "metadata": {},
   "source": [
    "# Construindo um dashboard local"
   ]
  },
  {
   "cell_type": "markdown",
   "metadata": {},
   "source": [
    "### Criando o consumidor_1 e seus widgets"
   ]
  },
  {
   "cell_type": "code",
   "execution_count": null,
   "metadata": {},
   "outputs": [],
   "source": [
    "widget_1 = widgets.FloatProgress(min=0, max=40.0, bar_style='', orientation='vertical'); widget_1_label = widgets.Label()\n",
    "\n",
    "consumer_1 = IoT_sensor_consumer(\"localhost\",1883,\"sensor/1/+\")"
   ]
  },
  {
   "cell_type": "markdown",
   "metadata": {},
   "source": [
    "### Criando o consumidor_2 e seus widgets"
   ]
  },
  {
   "cell_type": "code",
   "execution_count": null,
   "metadata": {},
   "outputs": [],
   "source": [
    "widget_2 = widgets.FloatProgress(min=0, max=90.0, bar_style='warning', orientation='vertical'); widget_2_label = widgets.Label()\n",
    "\n",
    "consumer_2 = IoT_sensor_consumer(\"localhost\",1883,\"sensor/2/+\")"
   ]
  },
  {
   "cell_type": "markdown",
   "metadata": {},
   "source": [
    "### Criando o consumidor_3 e seus widgets"
   ]
  },
  {
   "cell_type": "code",
   "execution_count": null,
   "metadata": {},
   "outputs": [],
   "source": [
    "widget_3  = widgets.FloatProgress(min=0, max=100.0, bar_style='info', orientation='vertical'); widget_3_label = widgets.Label()\n",
    "\n",
    "consumer_3 = IoT_sensor_consumer(\"localhost\",1883,\"sensor/3/+\")"
   ]
  },
  {
   "cell_type": "markdown",
   "metadata": {},
   "source": [
    "### Criando o consumidor_4 e seus widgets"
   ]
  },
  {
   "cell_type": "code",
   "execution_count": null,
   "metadata": {},
   "outputs": [],
   "source": [
    "widget_4  = widgets.FloatProgress(min=-95.0, max=-30, value=-95, bar_style='success', orientation='vertical'); widget_4_label = widgets.Label()\n",
    "\n",
    "consumer_4 = IoT_sensor_consumer(\"localhost\",1883,\"sensor/4/+\")"
   ]
  },
  {
   "cell_type": "markdown",
   "metadata": {},
   "source": [
    "## Organizando os componentes visualmente"
   ]
  },
  {
   "cell_type": "code",
   "execution_count": null,
   "metadata": {},
   "outputs": [],
   "source": [
    "separator = widgets.Label(value=\" ---------- \")\n",
    "col_1 = widgets.VBox([widget_1, widget_1_label])\n",
    "col_2 = widgets.VBox([widget_2, widget_2_label])\n",
    "col_3 = widgets.VBox([widget_3, widget_3_label])\n",
    "col_4 = widgets.VBox([widget_4, widget_4_label])\n",
    "row_1 = widgets.HBox([separator, col_1, separator, col_2, separator, col_3, separator, col_4])\n",
    "display(row_1)\n"
   ]
  },
  {
   "cell_type": "markdown",
   "metadata": {},
   "source": [
    "### Conectando componentes visuais e seus respectivos consumidores"
   ]
  },
  {
   "cell_type": "code",
   "execution_count": null,
   "metadata": {},
   "outputs": [],
   "source": [
    "consumer_1.connect(widget_1, widget_1_label)\n",
    "consumer_2.connect(widget_2, widget_2_label)\n",
    "consumer_3.connect(widget_3, widget_3_label)\n",
    "consumer_4.connect(widget_4, widget_4_label)"
   ]
  },
  {
   "cell_type": "markdown",
   "metadata": {},
   "source": [
    "# Consultando InfluxDB"
   ]
  },
  {
   "cell_type": "code",
   "execution_count": null,
   "metadata": {},
   "outputs": [],
   "source": [
    "! influx --execute \"show databases\""
   ]
  },
  {
   "cell_type": "code",
   "execution_count": null,
   "metadata": {},
   "outputs": [],
   "source": [
    "! influx -execute \"show measurements\" -database 'exemplo_iot'"
   ]
  },
  {
   "cell_type": "code",
   "execution_count": null,
   "metadata": {},
   "outputs": [],
   "source": [
    "! influx -execute \"show measurements\" -database 'exemplo_iot'"
   ]
  },
  {
   "cell_type": "code",
   "execution_count": null,
   "metadata": {},
   "outputs": [],
   "source": [
    "! influx -execute \"show series\" -database 'exemplo_iot'"
   ]
  },
  {
   "cell_type": "code",
   "execution_count": null,
   "metadata": {},
   "outputs": [],
   "source": [
    "! influx -execute \"show tag keys\" -database 'exemplo_iot'"
   ]
  },
  {
   "cell_type": "code",
   "execution_count": null,
   "metadata": {},
   "outputs": [],
   "source": [
    "! influx -execute 'show tag values with key = \"sensor_id\"' -database 'exemplo_iot'"
   ]
  },
  {
   "cell_type": "code",
   "execution_count": null,
   "metadata": {},
   "outputs": [],
   "source": [
    "! influx -execute 'show field keys ' -database 'exemplo_iot'"
   ]
  },
  {
   "cell_type": "code",
   "execution_count": null,
   "metadata": {},
   "outputs": [],
   "source": [
    "! influx -execute \"select value from cliente_A where medida = 'Temperatura' limit 10 \" -database 'exemplo_iot'"
   ]
  },
  {
   "cell_type": "code",
   "execution_count": null,
   "metadata": {},
   "outputs": [],
   "source": [
    "! influx -execute \"select value from cliente_A where medida = 'Umidade' AND time >  now() - 10s limit 10\" -database 'exemplo_iot'"
   ]
  },
  {
   "cell_type": "code",
   "execution_count": null,
   "metadata": {},
   "outputs": [],
   "source": [
    "! influx -execute \"select max(value), min(value), mean(value) from cliente_A where medida = 'Temperatura' AND time >  now() - 30s \" -database 'exemplo_iot'"
   ]
  },
  {
   "cell_type": "markdown",
   "metadata": {},
   "source": [
    "# Acessando o Grafana\n",
    "\n",
    "A célula abaixo permite acessar a instância do Grafana que está rodando nesta sessão. Verifique a sua URL de acordo com o servidor utilizado."
   ]
  },
  {
   "cell_type": "code",
   "execution_count": null,
   "metadata": {},
   "outputs": [],
   "source": [
    "binderhub_urls= ['hub.gke.mybinder.org', 'hub-binder.mybinder.ovh', 'notebooks.gesis.org', 'hub.binder.pangeo.io']\n",
    "\n",
    "thedatasociety.list_urls(binderhub_urls)"
   ]
  },
  {
   "cell_type": "markdown",
   "metadata": {},
   "source": [
    "## Adicione um data source\n",
    "\n",
    "Go to the setting menu (left cog on the vertical bar) and click to add a data source.\n",
    "\n",
    "![](../resources/images/screenshot-grafana0.png)\n",
    "\n",
    "Select InfluxDB and then set the following parameters:\n",
    "\n",
    "\n",
    "- Name: influxdb\n",
    "- Type: influxdb\n",
    "- URL: http://localhost:8086/\n",
    "- Database: telegraf\n",
    "- User: telegraf\n",
    "- Password: 'telegraf'\n",
    "\n",
    "Then click `save & test`.\n",
    "\n",
    "![](../resources/images/screenshot-grafana1.png)"
   ]
  },
  {
   "cell_type": "markdown",
   "metadata": {},
   "source": [
    "## Importe um dashboard ou crie o seu\n",
    "\n",
    "Grafana provides the repository for grafana plugins and dashboards.\n",
    "\n",
    "- [Grafana Plugins](https://grafana.com/plugins)\n",
    "- [Grafana Dashboards](https://grafana.com/dashboards)\n",
    "\n",
    "\n",
    "For instance, go to [https://grafana.com/dashboards/5955](https://grafana.com/dashboards/5955) and click the 'Copy the ID to Clipboard' button.\n",
    "\n",
    "Click on the `+` option on the left bar and select `import`. Paste the ID, select the Data Source and you will be done!"
   ]
  },
  {
   "cell_type": "code",
   "execution_count": null,
   "metadata": {},
   "outputs": [],
   "source": []
  }
 ],
 "metadata": {
  "kernelspec": {
   "display_name": "Python 3",
   "language": "python",
   "name": "python3"
  },
  "language_info": {
   "codemirror_mode": {
    "name": "ipython",
    "version": 3
   },
   "file_extension": ".py",
   "mimetype": "text/x-python",
   "name": "python",
   "nbconvert_exporter": "python",
   "pygments_lexer": "ipython3",
   "version": "3.7.6"
  }
 },
 "nbformat": 4,
 "nbformat_minor": 4
}
