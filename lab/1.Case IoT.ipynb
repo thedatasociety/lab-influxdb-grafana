{
 "cells": [
  {
   "cell_type": "code",
   "execution_count": 1,
   "metadata": {},
   "outputs": [],
   "source": [
    "from resources.iot.device import IoT_mqtt_publisher, IoT_sensor\n",
    "from resources.iot.device import IoT_sensor_consumer\n",
    "from IPython.core.display import display\n",
    "import ipywidgets as widgets\n",
    "from resources.iot.device import IoT_mqtt_publisher, IoT_sensor\n",
    "from IPython.core.display import HTML \n",
    "import os"
   ]
  },
  {
   "cell_type": "markdown",
   "metadata": {},
   "source": [
    "# Componente para simulação de um sensor\n",
    "\n",
    "<!--\n",
    "```bash\n",
    "IoT_sensor(<name/id>, <grandeza física >, <unidade de medida>, <menor valor>, <maior valor possível>, <intervalo entre leituras (segundos)>)\n",
    "```\n",
    "\n",
    "Exemplo de sensor de pressão:\n",
    "\n",
    "```python\n",
    "sensor_pressao = IoT_sensor(\"32\", \"pressao\", \"bar\", 20, 35, 5)\n",
    "\n",
    "```\n",
    "-->\n",
    "\n",
    "Componentes `IoT_sensor` podem se conectar a componentes do tipo `IoT_mqtt_publisher` para publicar, em um tópico, mensagens referentes às leituras feitas pelo sensor. Por exemplo, o sensor do exemplo acima produziu a seguinte mensagem no tópico `sensor/32/pressao`:\n",
    "\n",
    "```python\n",
    " {\n",
    " \t\"source\": \"sensor\",\n",
    " \t\"name\": \"32\",\n",
    " \t\"type\": \"mode-r2d2\",\n",
    " \t\"body\": {\n",
    " \t\t\"timestamp\": \"2019-08-17 17:02:15\",\n",
    " \t\t\"dimension\": \"pressao\",\n",
    " \t\t\"value\": 25.533895448246717,\n",
    " \t\t\"unity\": \"bar\"\n",
    " \t}\n",
    " }\n",
    "```\n",
    "\n",
    "Simuladores podem publicar mensagens aleatórias de tempos em tempos.\n"
   ]
  },
  {
   "cell_type": "markdown",
   "metadata": {},
   "source": [
    "# Instanciando Simuladores de Sensores"
   ]
  },
  {
   "cell_type": "code",
   "execution_count": 2,
   "metadata": {},
   "outputs": [],
   "source": [
    "sensor_1 = IoT_sensor(name=\"1\", dimension=\"Temperatura\",     unity=\"°C\",  min_value=25, max_value=35,   pooling_interval=2)\n",
    "sensor_2 = IoT_sensor(name=\"2\", dimension=\"Umidade\",         unity=\"%\",   min_value=40, max_value=65,   pooling_interval=3)\n",
    "sensor_3 = IoT_sensor(name=\"3\", dimension=\"BateriaRestante\", unity=\"%\",   min_value=5,  max_value=100,  pooling_interval=4)\n",
    "sensor_4 = IoT_sensor(name=\"4\", dimension=\"SinalWifi\",       unity=\"dBm\", min_value=-30, max_value=-90, pooling_interval=2)"
   ]
  },
  {
   "cell_type": "markdown",
   "metadata": {},
   "source": [
    "# Instanciando Componente de Publicação de Mensagens no MQTT"
   ]
  },
  {
   "cell_type": "code",
   "execution_count": 3,
   "metadata": {},
   "outputs": [
    {
     "name": "stdout",
     "output_type": "stream",
     "text": [
      "Connected.\n"
     ]
    }
   ],
   "source": [
    "publisher = IoT_mqtt_publisher(\"localhost\", 1883)"
   ]
  },
  {
   "cell_type": "markdown",
   "metadata": {},
   "source": [
    "### Conectando os Componentes "
   ]
  },
  {
   "cell_type": "code",
   "execution_count": 4,
   "metadata": {},
   "outputs": [],
   "source": [
    "sensor_1.connect(publisher)\n",
    "sensor_2.connect(publisher)\n",
    "sensor_3.connect(publisher)\n",
    "sensor_4.connect(publisher)"
   ]
  },
  {
   "cell_type": "markdown",
   "metadata": {},
   "source": [
    "# Escutando o barramento\n",
    "\n",
    "Abra um terminal e digite:\n",
    "\n",
    "```bash\n",
    "\n",
    "mosquitto_sub -t \"sensor/#\" -v\n",
    "\n",
    "```"
   ]
  },
  {
   "cell_type": "markdown",
   "metadata": {},
   "source": [
    "# Construindo um dashboard local"
   ]
  },
  {
   "cell_type": "markdown",
   "metadata": {},
   "source": [
    "### Criando o consumidor_1 e seus widgets"
   ]
  },
  {
   "cell_type": "code",
   "execution_count": 5,
   "metadata": {},
   "outputs": [],
   "source": [
    "widget_1 = widgets.FloatProgress(min=0, max=40.0, bar_style='', orientation='vertical'); widget_1_label = widgets.Label()\n",
    "\n",
    "consumer_1 = IoT_sensor_consumer(\"localhost\",1883,\"sensor/1/+\")"
   ]
  },
  {
   "cell_type": "markdown",
   "metadata": {},
   "source": [
    "### Criando o consumidor_2 e seus widgets"
   ]
  },
  {
   "cell_type": "code",
   "execution_count": 6,
   "metadata": {},
   "outputs": [],
   "source": [
    "widget_2 = widgets.FloatProgress(min=0, max=90.0, bar_style='warning', orientation='vertical'); widget_2_label = widgets.Label()\n",
    "\n",
    "consumer_2 = IoT_sensor_consumer(\"localhost\",1883,\"sensor/2/+\")"
   ]
  },
  {
   "cell_type": "markdown",
   "metadata": {},
   "source": [
    "### Criando o consumidor_3 e seus widgets"
   ]
  },
  {
   "cell_type": "code",
   "execution_count": 7,
   "metadata": {},
   "outputs": [],
   "source": [
    "widget_3  = widgets.FloatProgress(min=0, max=100.0, bar_style='info', orientation='vertical'); widget_3_label = widgets.Label()\n",
    "\n",
    "consumer_3 = IoT_sensor_consumer(\"localhost\",1883,\"sensor/3/+\")"
   ]
  },
  {
   "cell_type": "markdown",
   "metadata": {},
   "source": [
    "### Criando o consumidor_4 e seus widgets"
   ]
  },
  {
   "cell_type": "code",
   "execution_count": 8,
   "metadata": {},
   "outputs": [],
   "source": [
    "widget_4  = widgets.FloatProgress(min=-95.0, max=-30, value=-95, bar_style='success', orientation='vertical'); widget_4_label = widgets.Label()\n",
    "\n",
    "consumer_4 = IoT_sensor_consumer(\"localhost\",1883,\"sensor/4/+\")"
   ]
  },
  {
   "cell_type": "markdown",
   "metadata": {},
   "source": [
    "## Organizando os componentes visualmente"
   ]
  },
  {
   "cell_type": "code",
   "execution_count": 9,
   "metadata": {},
   "outputs": [
    {
     "data": {
      "application/vnd.jupyter.widget-view+json": {
       "model_id": "6530898c16be460993dd24a96dfdee1b",
       "version_major": 2,
       "version_minor": 0
      },
      "text/plain": [
       "HBox(children=(Label(value=' ---------- '), VBox(children=(FloatProgress(value=0.0, max=40.0, orientation='ver…"
      ]
     },
     "metadata": {},
     "output_type": "display_data"
    }
   ],
   "source": [
    "separator = widgets.Label(value=\" ---------- \")\n",
    "col_1 = widgets.VBox([widget_1, widget_1_label])\n",
    "col_2 = widgets.VBox([widget_2, widget_2_label])\n",
    "col_3 = widgets.VBox([widget_3, widget_3_label])\n",
    "col_4 = widgets.VBox([widget_4, widget_4_label])\n",
    "row_1 = widgets.HBox([separator, col_1, separator, col_2, separator, col_3, separator, col_4])\n",
    "display(row_1)\n"
   ]
  },
  {
   "cell_type": "markdown",
   "metadata": {},
   "source": [
    "### Conectando componentes visuais e seus respectivos consumidores"
   ]
  },
  {
   "cell_type": "code",
   "execution_count": 10,
   "metadata": {},
   "outputs": [],
   "source": [
    "consumer_1.connect(widget_1, widget_1_label)\n",
    "consumer_2.connect(widget_2, widget_2_label)\n",
    "consumer_3.connect(widget_3, widget_3_label)\n",
    "consumer_4.connect(widget_4, widget_4_label)"
   ]
  },
  {
   "cell_type": "markdown",
   "metadata": {},
   "source": [
    "# Consultando InfluxDB"
   ]
  },
  {
   "cell_type": "code",
   "execution_count": 11,
   "metadata": {},
   "outputs": [
    {
     "name": "stdout",
     "output_type": "stream",
     "text": [
      "name: databases\n",
      "name\n",
      "----\n",
      "telegraf\n",
      "_internal\n",
      "iot_example\n",
      "exemplo_iot\n"
     ]
    }
   ],
   "source": [
    "! influx --execute \"show databases\""
   ]
  },
  {
   "cell_type": "code",
   "execution_count": 12,
   "metadata": {},
   "outputs": [
    {
     "name": "stdout",
     "output_type": "stream",
     "text": [
      "name: measurements\n",
      "name\n",
      "----\n",
      "cliente_A\n"
     ]
    }
   ],
   "source": [
    "! influx -execute \"show measurements\" -database 'exemplo_iot'"
   ]
  },
  {
   "cell_type": "code",
   "execution_count": null,
   "metadata": {},
   "outputs": [],
   "source": [
    "! influx -execute \"show measurements\" -database 'exemplo_iot'"
   ]
  },
  {
   "cell_type": "code",
   "execution_count": 13,
   "metadata": {},
   "outputs": [
    {
     "name": "stdout",
     "output_type": "stream",
     "text": [
      "key\n",
      "---\n",
      "cliente_A,medida=BateriaRestante,sensor_id=3\n",
      "cliente_A,medida=SinalWifi,sensor_id=4\n",
      "cliente_A,medida=Temperatura,sensor_id=1\n",
      "cliente_A,medida=Umidade,sensor_id=2\n"
     ]
    }
   ],
   "source": [
    "! influx -execute \"show series\" -database 'exemplo_iot'"
   ]
  },
  {
   "cell_type": "code",
   "execution_count": 14,
   "metadata": {},
   "outputs": [
    {
     "name": "stdout",
     "output_type": "stream",
     "text": [
      "name: cliente_A\n",
      "tagKey\n",
      "------\n",
      "medida\n",
      "sensor_id\n"
     ]
    }
   ],
   "source": [
    "! influx -execute \"show tag keys\" -database 'exemplo_iot'"
   ]
  },
  {
   "cell_type": "code",
   "execution_count": 17,
   "metadata": {},
   "outputs": [
    {
     "name": "stdout",
     "output_type": "stream",
     "text": [
      "name: cliente_A\n",
      "key       value\n",
      "---       -----\n",
      "sensor_id 1\n",
      "sensor_id 2\n",
      "sensor_id 3\n",
      "sensor_id 4\n"
     ]
    }
   ],
   "source": [
    "! influx -execute 'show tag values with key = \"sensor_id\"' -database 'exemplo_iot'"
   ]
  },
  {
   "cell_type": "code",
   "execution_count": 19,
   "metadata": {},
   "outputs": [
    {
     "name": "stdout",
     "output_type": "stream",
     "text": [
      "name: cliente_A\n",
      "fieldKey fieldType\n",
      "-------- ---------\n",
      "value    float\n"
     ]
    }
   ],
   "source": [
    "! influx -execute 'show field keys ' -database 'exemplo_iot'"
   ]
  },
  {
   "cell_type": "code",
   "execution_count": 25,
   "metadata": {},
   "outputs": [
    {
     "name": "stdout",
     "output_type": "stream",
     "text": [
      "name: cliente_A\n",
      "time                value\n",
      "----                -----\n",
      "1597455307220263000 25.48\n",
      "1597455309222154000 27.75\n",
      "1597455311224471000 31.08\n",
      "1597455313227832000 34.37\n",
      "1597455315228471000 33.52\n",
      "1597455317230489000 30.85\n",
      "1597455319232240000 25.36\n",
      "1597455321232527000 28.88\n",
      "1597455323233584000 29.08\n",
      "1597455325236517000 33.38\n"
     ]
    }
   ],
   "source": [
    "! influx -execute \"select value from cliente_A where medida = 'Temperatura' limit 10 \" -database 'exemplo_iot'"
   ]
  },
  {
   "cell_type": "code",
   "execution_count": 26,
   "metadata": {},
   "outputs": [
    {
     "name": "stdout",
     "output_type": "stream",
     "text": [
      "name: cliente_A\n",
      "time                value\n",
      "----                -----\n",
      "1597455649467183000 48.55\n"
     ]
    }
   ],
   "source": [
    "! influx -execute \"select value from cliente_A where medida = 'Umidade' AND time >  now() - 5s \" -database 'exemplo_iot'"
   ]
  },
  {
   "cell_type": "code",
   "execution_count": 27,
   "metadata": {},
   "outputs": [
    {
     "name": "stdout",
     "output_type": "stream",
     "text": [
      "name: cliente_A\n",
      "time                max   min   mean\n",
      "----                ---   ---   ----\n",
      "1597455674953003439 34.91 25.06 30.149285714285707\n"
     ]
    }
   ],
   "source": [
    "! influx -execute \"select max(value), min(value), mean(value) from cliente_A where medida = 'Temperatura' AND time >  now() - 30s \" -database 'exemplo_iot'"
   ]
  },
  {
   "cell_type": "code",
   "execution_count": null,
   "metadata": {},
   "outputs": [],
   "source": [
    "\n",
    "mybinder_urls: ['hub.gke.mybinder.org', ]\n"
   ]
  },
  {
   "cell_type": "code",
   "execution_count": null,
   "metadata": {},
   "outputs": [],
   "source": [
    "url_message='<b>Grafana interface is available at:</b> <a href=\"http://{0}{1}{2}\" target=\"_blank\"> http://{0}{1}{2}</a>'\n",
    "display(HTML(url_message.format(os.environ['SERVER_URL'],os.environ['JUPYTERHUB_SERVICE_PREFIX'],os.environ['PROXY_SUBURL'])))\n",
    "display(HTML('<b>User</b>: admin <br/><b>Password:</b> datasociety'))\n",
    "display(HTML('<b><font color=\"red\">This cell will keep the Grafana server running. Please do not stop it unless you need to.</font></b>'))\n",
    "\n",
    "!export GF_SERVER_ROOT_URL=\"${JUPYTERHUB_SERVICE_PREFIX}${PROXY_SUBURL}\" && \\\n",
    " export GF_SECURITY_ADMIN_PASSWORD=datasociety && \\\n",
    " cd ${GRAFANA_PATH} && \\\n",
    " ./bin/grafana-server -convey-silent >> /dev/null"
   ]
  },
  {
   "cell_type": "code",
   "execution_count": null,
   "metadata": {},
   "outputs": [],
   "source": []
  },
  {
   "cell_type": "code",
   "execution_count": null,
   "metadata": {},
   "outputs": [],
   "source": []
  },
  {
   "cell_type": "code",
   "execution_count": null,
   "metadata": {},
   "outputs": [],
   "source": []
  }
 ],
 "metadata": {
  "kernelspec": {
   "display_name": "Python 3",
   "language": "python",
   "name": "python3"
  },
  "language_info": {
   "codemirror_mode": {
    "name": "ipython",
    "version": 3
   },
   "file_extension": ".py",
   "mimetype": "text/x-python",
   "name": "python",
   "nbconvert_exporter": "python",
   "pygments_lexer": "ipython3",
   "version": "3.7.6"
  }
 },
 "nbformat": 4,
 "nbformat_minor": 4
}
