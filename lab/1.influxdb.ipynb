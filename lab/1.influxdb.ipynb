{
 "cells": [
  {
   "cell_type": "markdown",
   "metadata": {},
   "source": [
    "## Defining InfluxDB version and local path"
   ]
  },
  {
   "cell_type": "code",
   "execution_count": null,
   "metadata": {},
   "outputs": [],
   "source": [
    "%env INFLUXDB_VERSION 1.7.7\n",
    "%env INFLUXDB_PATH    influxdb-1.7.7-1"
   ]
  },
  {
   "cell_type": "markdown",
   "metadata": {},
   "source": [
    "## Downloading and extracting InfluxDB"
   ]
  },
  {
   "cell_type": "code",
   "execution_count": null,
   "metadata": {},
   "outputs": [],
   "source": [
    "!wget https://dl.influxdata.com/influxdb/releases/influxdb-${INFLUXDB_VERSION}_linux_amd64.tar.gz -q --show-progress\n",
    "!tar -zxf influxdb-${INFLUXDB_VERSION}_linux_amd64.tar.gz >> /dev/null\n",
    "!rm       influxdb-${INFLUXDB_VERSION}_linux_amd64.tar.gz "
   ]
  },
  {
   "cell_type": "markdown",
   "metadata": {},
   "source": [
    "## Start InfluxDB server"
   ]
  },
  {
   "cell_type": "markdown",
   "metadata": {},
   "source": [
    "Open a terminal and start the influx server by running\n",
    "```\n",
    "cd example/influxdb-1.7.7-1 && ./usr/bin/influxd\n",
    "```\n"
   ]
  },
  {
   "cell_type": "markdown",
   "metadata": {},
   "source": [
    "## Create database for Telegraf"
   ]
  },
  {
   "cell_type": "code",
   "execution_count": null,
   "metadata": {},
   "outputs": [],
   "source": [
    "!${INFLUXDB_PATH}/usr/bin/influx -execute \"create database telegraf\""
   ]
  },
  {
   "cell_type": "markdown",
   "metadata": {},
   "source": [
    "## Create user for Telegraf"
   ]
  },
  {
   "cell_type": "code",
   "execution_count": null,
   "metadata": {},
   "outputs": [],
   "source": [
    "!${INFLUXDB_PATH}/usr/bin/influx -execute \"create user telegraf with password 'telegraf'\""
   ]
  },
  {
   "cell_type": "markdown",
   "metadata": {},
   "source": [
    "## List InfluxDB databases"
   ]
  },
  {
   "cell_type": "code",
   "execution_count": null,
   "metadata": {},
   "outputs": [],
   "source": [
    "!${INFLUXDB_PATH}/usr/bin/influx -execute \"show databases\""
   ]
  },
  {
   "cell_type": "markdown",
   "metadata": {},
   "source": [
    "## List users"
   ]
  },
  {
   "cell_type": "code",
   "execution_count": null,
   "metadata": {},
   "outputs": [],
   "source": [
    "!${INFLUXDB_PATH}/usr/bin/influx -execute \"show users\""
   ]
  },
  {
   "cell_type": "markdown",
   "metadata": {},
   "source": [
    "## List InfluxDB [measurements](https://docs.influxdata.com/influxdb/v1.7/concepts/key_concepts/#measurement)\n",
    "\n",
    "The measurement acts as a container for tags, fields, and the time column, and the measurement name is the description of the data that are stored in the associated fields. **Measurement names are strings, and, for any SQL users out there, a measurement is conceptually similar to a table**. "
   ]
  },
  {
   "cell_type": "code",
   "execution_count": null,
   "metadata": {},
   "outputs": [],
   "source": [
    "!${INFLUXDB_PATH}/usr/bin/influx -execute \"show measurements\" -database 'telegraf'"
   ]
  }
 ],
 "metadata": {
  "kernelspec": {
   "display_name": "Python 3",
   "language": "python",
   "name": "python3"
  },
  "language_info": {
   "codemirror_mode": {
    "name": "ipython",
    "version": 3
   },
   "file_extension": ".py",
   "mimetype": "text/x-python",
   "name": "python",
   "nbconvert_exporter": "python",
   "pygments_lexer": "ipython3",
   "version": "3.7.3"
  }
 },
 "nbformat": 4,
 "nbformat_minor": 2
}
